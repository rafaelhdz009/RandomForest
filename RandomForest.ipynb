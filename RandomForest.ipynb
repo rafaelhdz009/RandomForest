{
 "cells": [
  {
   "cell_type": "markdown",
   "id": "61a4ceec-a3b0-464c-b357-346e75802063",
   "metadata": {},
   "source": [
    "<h1 style=\"text-align: center; background: #152e45; color: white; padding: 15px 0\">\n",
    "    Mundo bajo el mar - Análisis de 7 tipos de mariscos en supermercado\n",
    "</h1>"
   ]
  },
  {
   "cell_type": "markdown",
   "id": "896d4271-a4ca-470f-9219-524401b6421b",
   "metadata": {},
   "source": [
    "<h2 style=\"text-align: center; background: #08404e; color: white; padding: 15px 0; margin: 0\"> Índice </h2>\n",
    "<div style=\"background: #eefcff; color: black; padding: 15px 0\">\n",
    "    <ol>\n",
    "        <li><a href='#rafa' style=\"color: black; text-decoration: none;\">Hernández López Rafael</a></li>\n",
    "        <ul>\n",
    "            <li><a href='#algoritmo4' style=\"color: black; text-decoration: none;\">Algoritmo a utilizar Bosques Aleatorios</a></li>\n",
    "            <ul>\n",
    "                 <li><a href='#alg_expl4' style=\"color: black; text-decoration: none;\">Explicación del problema</a></li>\n",
    "                 <li>\n",
    "                     <a href='#alg_dic4' style=\"color: black; text-decoration: none;\">\n",
    "                     Construcción del diccionario de datos (significado y trascendencia de c/u)\n",
    "                     </a>\n",
    "                 </li>\n",
    "             </ul>\n",
    "            <li><a href='#preprocesamiento4' style=\"color: black; text-decoration: none;\">Preprocesamiento</a></li>\n",
    "            <ul>\n",
    "             <li><a href='#perdidos4' style=\"color: black; text-decoration: none;\">Manejo de datos perdidos</a></li>\n",
    "             <ul>\n",
    "                 <li><a href='#per_num4' style=\"color: black; text-decoration: none;\">Numericos</a></li>\n",
    "                 <li><a href='#per_cat4' style=\"color: black; text-decoration: none;\">Categóricos</a></li>\n",
    "             </ul>\n",
    "             <li><a href='#cod_cat4' style=\"color: black; text-decoration: none;\">Codificación de datos categóricos</a></li>\n",
    "             <li><a href='#dis_cat4' style=\"color: black; text-decoration: none;\">Discretización de datos numéricos</a></li>\n",
    "             <li><a href='#atipicos4' style=\"color: black; text-decoration: none;\">Manejo de valores atípicos</a></li>\n",
    "             <ul>\n",
    "                 <li><a href='#at_graf4' style=\"color: black; text-decoration: none;\">Graficación de valores atípicos</a></li>\n",
    "                 <li><a href='#at_est4' style=\"color: black; text-decoration: none;\">Estrategia y aplicación de la misma sobre datos atípicos</a></li>\n",
    "             </ul>\n",
    "            </ul>\n",
    "            <li><a href='#escalamiento4' style=\"color: black; text-decoration: none;\">Escalamiento</a></li>\n",
    "            <ul>\n",
    "                <li><a href='#esc_raz4' style=\"color: black; text-decoration: none;\">Razones para escalar</a></li>\n",
    "                <li>\n",
    "                    <a href='#esc_est4' style=\"color: black; text-decoration: none;\">\n",
    "                    Estrategia y aplicación del Escalamiento (Estandarización, Min/Max, escalamiento, etc.)\n",
    "                    </a>\n",
    "                </li>\n",
    "            </ul>\n",
    "            <li><a href='#aplicacion4' style=\"color: black; text-decoration: none;\">Aplicación del algoritmo</a></li>\n",
    "            <li><a href='#evaluacion4' style=\"color: black; text-decoration: none;\">Evaluación del algoritmo</a></li>\n",
    "            <li><a href='#validacion4' style=\"color: black; text-decoration: none;\">Validación Cruzada</a></li>\n",
    "        </ul>\n",
    "    </ol>\n",
    "</div>"
   ]
  },
  {
   "cell_type": "markdown",
   "id": "3056cf6b-18d5-4bb0-922c-f5ad1dce1c9d",
   "metadata": {},
   "source": [
    "<a id=\"rafa\">\n",
    "<h2 style=\"text-align: center; background: #1d4630; color: white; padding: 15px 0; margin: 0\"> \n",
    "    Hernández López Rafael \n",
    "</h2>"
   ]
  },
  {
   "cell_type": "markdown",
   "id": "9619ffe7-f762-4cea-bde0-6bd909c7a746",
   "metadata": {},
   "source": [
    "### Importamos librerías"
   ]
  },
  {
   "cell_type": "code",
   "execution_count": 1,
   "id": "3d255af9-3922-4e28-b002-1f15435128e1",
   "metadata": {},
   "outputs": [],
   "source": [
    "import pandas as pd\n",
    "import numpy as np\n",
    "import matplotlib.pyplot as plt\n",
    "import seaborn as sns"
   ]
  },
  {
   "cell_type": "markdown",
   "id": "3f576b01-b624-4bc7-80cb-e631316621e1",
   "metadata": {},
   "source": [
    "### Cargamos el conjunto de datos"
   ]
  },
  {
   "cell_type": "code",
   "execution_count": 2,
   "id": "6e750556-539f-41b4-a199-723cf06376cc",
   "metadata": {},
   "outputs": [
    {
     "data": {
      "text/html": [
       "<div>\n",
       "<style scoped>\n",
       "    .dataframe tbody tr th:only-of-type {\n",
       "        vertical-align: middle;\n",
       "    }\n",
       "\n",
       "    .dataframe tbody tr th {\n",
       "        vertical-align: top;\n",
       "    }\n",
       "\n",
       "    .dataframe thead th {\n",
       "        text-align: right;\n",
       "    }\n",
       "</style>\n",
       "<table border=\"1\" class=\"dataframe\">\n",
       "  <thead>\n",
       "    <tr style=\"text-align: right;\">\n",
       "      <th></th>\n",
       "      <th>Species</th>\n",
       "      <th>Weight</th>\n",
       "      <th>Length1</th>\n",
       "      <th>Length2</th>\n",
       "      <th>Length3</th>\n",
       "      <th>Height</th>\n",
       "      <th>Width</th>\n",
       "    </tr>\n",
       "  </thead>\n",
       "  <tbody>\n",
       "    <tr>\n",
       "      <th>0</th>\n",
       "      <td>Bream</td>\n",
       "      <td>242.0</td>\n",
       "      <td>23.2</td>\n",
       "      <td>25.4</td>\n",
       "      <td>30.0</td>\n",
       "      <td>11.5200</td>\n",
       "      <td>4.0200</td>\n",
       "    </tr>\n",
       "    <tr>\n",
       "      <th>1</th>\n",
       "      <td>Bream</td>\n",
       "      <td>290.0</td>\n",
       "      <td>24.0</td>\n",
       "      <td>26.3</td>\n",
       "      <td>31.2</td>\n",
       "      <td>12.4800</td>\n",
       "      <td>4.3056</td>\n",
       "    </tr>\n",
       "    <tr>\n",
       "      <th>2</th>\n",
       "      <td>Bream</td>\n",
       "      <td>340.0</td>\n",
       "      <td>23.9</td>\n",
       "      <td>26.5</td>\n",
       "      <td>31.1</td>\n",
       "      <td>12.3778</td>\n",
       "      <td>4.6961</td>\n",
       "    </tr>\n",
       "    <tr>\n",
       "      <th>3</th>\n",
       "      <td>Bream</td>\n",
       "      <td>363.0</td>\n",
       "      <td>26.3</td>\n",
       "      <td>29.0</td>\n",
       "      <td>33.5</td>\n",
       "      <td>12.7300</td>\n",
       "      <td>4.4555</td>\n",
       "    </tr>\n",
       "    <tr>\n",
       "      <th>4</th>\n",
       "      <td>Bream</td>\n",
       "      <td>430.0</td>\n",
       "      <td>26.5</td>\n",
       "      <td>29.0</td>\n",
       "      <td>34.0</td>\n",
       "      <td>12.4440</td>\n",
       "      <td>5.1340</td>\n",
       "    </tr>\n",
       "  </tbody>\n",
       "</table>\n",
       "</div>"
      ],
      "text/plain": [
       "  Species  Weight  Length1  Length2  Length3   Height   Width\n",
       "0   Bream   242.0     23.2     25.4     30.0  11.5200  4.0200\n",
       "1   Bream   290.0     24.0     26.3     31.2  12.4800  4.3056\n",
       "2   Bream   340.0     23.9     26.5     31.1  12.3778  4.6961\n",
       "3   Bream   363.0     26.3     29.0     33.5  12.7300  4.4555\n",
       "4   Bream   430.0     26.5     29.0     34.0  12.4440  5.1340"
      ]
     },
     "execution_count": 2,
     "metadata": {},
     "output_type": "execute_result"
    }
   ],
   "source": [
    "df_mariscos = pd.read_csv('equipo1.csv', sep=',')\n",
    "df_mariscos.head()"
   ]
  },
  {
   "cell_type": "markdown",
   "id": "9c1f92f5-1f7b-49c1-ba8f-585f2cf7f109",
   "metadata": {},
   "source": [
    "### Observamos cuantas filas y columnas tiene"
   ]
  },
  {
   "cell_type": "code",
   "execution_count": 3,
   "id": "8c662072-b9ee-4db4-bd57-caf25428263e",
   "metadata": {},
   "outputs": [
    {
     "data": {
      "text/plain": [
       "(159, 7)"
      ]
     },
     "execution_count": 3,
     "metadata": {},
     "output_type": "execute_result"
    }
   ],
   "source": [
    "df_mariscos.shape"
   ]
  },
  {
   "cell_type": "markdown",
   "id": "4e799703-054d-4c0f-9ee3-32f62d69cb4e",
   "metadata": {},
   "source": [
    "Analizamos de manera aleatoria nuestro conjunto de datos"
   ]
  },
  {
   "cell_type": "code",
   "execution_count": 4,
   "id": "d732433e-83ec-46fc-8acc-77a14520ec63",
   "metadata": {},
   "outputs": [
    {
     "data": {
      "text/html": [
       "<div>\n",
       "<style scoped>\n",
       "    .dataframe tbody tr th:only-of-type {\n",
       "        vertical-align: middle;\n",
       "    }\n",
       "\n",
       "    .dataframe tbody tr th {\n",
       "        vertical-align: top;\n",
       "    }\n",
       "\n",
       "    .dataframe thead th {\n",
       "        text-align: right;\n",
       "    }\n",
       "</style>\n",
       "<table border=\"1\" class=\"dataframe\">\n",
       "  <thead>\n",
       "    <tr style=\"text-align: right;\">\n",
       "      <th></th>\n",
       "      <th>Species</th>\n",
       "      <th>Weight</th>\n",
       "      <th>Length1</th>\n",
       "      <th>Length2</th>\n",
       "      <th>Length3</th>\n",
       "      <th>Height</th>\n",
       "      <th>Width</th>\n",
       "    </tr>\n",
       "  </thead>\n",
       "  <tbody>\n",
       "    <tr>\n",
       "      <th>89</th>\n",
       "      <td>Perch</td>\n",
       "      <td>135.0</td>\n",
       "      <td>20.0</td>\n",
       "      <td>22.0</td>\n",
       "      <td>23.5</td>\n",
       "      <td>5.8750</td>\n",
       "      <td>3.5250</td>\n",
       "    </tr>\n",
       "    <tr>\n",
       "      <th>87</th>\n",
       "      <td>Perch</td>\n",
       "      <td>120.0</td>\n",
       "      <td>20.0</td>\n",
       "      <td>22.0</td>\n",
       "      <td>23.5</td>\n",
       "      <td>5.6400</td>\n",
       "      <td>3.5250</td>\n",
       "    </tr>\n",
       "    <tr>\n",
       "      <th>47</th>\n",
       "      <td>Roach</td>\n",
       "      <td>160.0</td>\n",
       "      <td>21.1</td>\n",
       "      <td>22.5</td>\n",
       "      <td>25.0</td>\n",
       "      <td>6.4000</td>\n",
       "      <td>3.8000</td>\n",
       "    </tr>\n",
       "    <tr>\n",
       "      <th>44</th>\n",
       "      <td>Roach</td>\n",
       "      <td>145.0</td>\n",
       "      <td>20.5</td>\n",
       "      <td>22.0</td>\n",
       "      <td>24.3</td>\n",
       "      <td>6.6339</td>\n",
       "      <td>3.5478</td>\n",
       "    </tr>\n",
       "    <tr>\n",
       "      <th>5</th>\n",
       "      <td>Bream</td>\n",
       "      <td>450.0</td>\n",
       "      <td>26.8</td>\n",
       "      <td>29.7</td>\n",
       "      <td>34.7</td>\n",
       "      <td>13.6024</td>\n",
       "      <td>4.9274</td>\n",
       "    </tr>\n",
       "    <tr>\n",
       "      <th>2</th>\n",
       "      <td>Bream</td>\n",
       "      <td>340.0</td>\n",
       "      <td>23.9</td>\n",
       "      <td>26.5</td>\n",
       "      <td>31.1</td>\n",
       "      <td>12.3778</td>\n",
       "      <td>4.6961</td>\n",
       "    </tr>\n",
       "    <tr>\n",
       "      <th>81</th>\n",
       "      <td>Perch</td>\n",
       "      <td>85.0</td>\n",
       "      <td>18.2</td>\n",
       "      <td>20.0</td>\n",
       "      <td>21.0</td>\n",
       "      <td>5.0820</td>\n",
       "      <td>2.7720</td>\n",
       "    </tr>\n",
       "    <tr>\n",
       "      <th>25</th>\n",
       "      <td>Bream</td>\n",
       "      <td>725.0</td>\n",
       "      <td>31.8</td>\n",
       "      <td>35.0</td>\n",
       "      <td>40.9</td>\n",
       "      <td>16.3600</td>\n",
       "      <td>6.0532</td>\n",
       "    </tr>\n",
       "    <tr>\n",
       "      <th>78</th>\n",
       "      <td>Perch</td>\n",
       "      <td>78.0</td>\n",
       "      <td>16.8</td>\n",
       "      <td>18.7</td>\n",
       "      <td>19.4</td>\n",
       "      <td>5.1992</td>\n",
       "      <td>3.1234</td>\n",
       "    </tr>\n",
       "    <tr>\n",
       "      <th>85</th>\n",
       "      <td>Perch</td>\n",
       "      <td>130.0</td>\n",
       "      <td>19.3</td>\n",
       "      <td>21.3</td>\n",
       "      <td>22.8</td>\n",
       "      <td>6.3840</td>\n",
       "      <td>3.5340</td>\n",
       "    </tr>\n",
       "  </tbody>\n",
       "</table>\n",
       "</div>"
      ],
      "text/plain": [
       "   Species  Weight  Length1  Length2  Length3   Height   Width\n",
       "89   Perch   135.0     20.0     22.0     23.5   5.8750  3.5250\n",
       "87   Perch   120.0     20.0     22.0     23.5   5.6400  3.5250\n",
       "47   Roach   160.0     21.1     22.5     25.0   6.4000  3.8000\n",
       "44   Roach   145.0     20.5     22.0     24.3   6.6339  3.5478\n",
       "5    Bream   450.0     26.8     29.7     34.7  13.6024  4.9274\n",
       "2    Bream   340.0     23.9     26.5     31.1  12.3778  4.6961\n",
       "81   Perch    85.0     18.2     20.0     21.0   5.0820  2.7720\n",
       "25   Bream   725.0     31.8     35.0     40.9  16.3600  6.0532\n",
       "78   Perch    78.0     16.8     18.7     19.4   5.1992  3.1234\n",
       "85   Perch   130.0     19.3     21.3     22.8   6.3840  3.5340"
      ]
     },
     "execution_count": 4,
     "metadata": {},
     "output_type": "execute_result"
    }
   ],
   "source": [
    "df_mariscos.sample(10)"
   ]
  },
  {
   "cell_type": "markdown",
   "id": "8bb0e640-13ba-45b4-81a6-5f6ebce18946",
   "metadata": {},
   "source": [
    "<a id=\"algoritmo4\">\n",
    "<h3 style=\"text-align: center; background: #16633b; color: white; padding: 15px 0; margin: 0\"> \n",
    "    Algoritmo a utilizar Bosques Aleatorios\n",
    "</h3>"
   ]
  },
  {
   "cell_type": "markdown",
   "id": "4708b903-6a48-4b93-b0ff-46fc7aa9e82e",
   "metadata": {},
   "source": [
    "<a id=\"alg_expl4\">\n",
    "<h4 style=\"text-align: center; background: #049346; color: white; padding: 15px 0; margin: 0\"> \n",
    "    Explicación del problema\n",
    "</h4>"
   ]
  },
  {
   "cell_type": "markdown",
   "id": "ef47052c-e811-44a9-81e7-5fa1f8a594ff",
   "metadata": {},
   "source": [
    "<p style=\"text-align: justify;\">Este conjunto de datos contiene información sobre siete especies diferentes de mariscos, con características físicas como peso, longitud, altura y ancho. El objetivo es construir un modelo utilizando Bosques Aleatorios (Random Forest) para predecir la especie del marisco basándose en sus características. Este es un problema de clasificación supervisada, donde la etiqueta de salida es la columna Species.</p>"
   ]
  },
  {
   "cell_type": "markdown",
   "id": "d5f4c4e3-24ae-4aa6-a68f-53aaa4fad8ee",
   "metadata": {},
   "source": [
    "<a id=\"alg_dic4\">\n",
    "<h4 style=\"text-align: center; background: #049346; color: white; padding: 15px 0; margin: 0\"> \n",
    "    Construcción del diccionario de datos (significado y trascendencia de c/u)\n",
    "</h4>"
   ]
  },
  {
   "cell_type": "markdown",
   "id": "03687d09-8dd5-44fc-a0c1-60f5f0e4d45a",
   "metadata": {},
   "source": [
    "<table>\n",
    "        <thead>\n",
    "            <tr>\n",
    "                <th>Columna</th>\n",
    "                <th>Descripción</th>\n",
    "                <th>Trascendencia</th>\n",
    "            </tr>\n",
    "        </thead>\n",
    "        <tbody>\n",
    "            <tr>\n",
    "                <td>Species</td>\n",
    "                <td>Especie del marisco (Perch, Smelt, Bream, etc.).</td>\n",
    "                <td>Es la variable objetivo del problema.</td>\n",
    "            </tr>\n",
    "            <tr>\n",
    "                <td>Weight</td>\n",
    "                <td>Peso del marisco en gramos.</td>\n",
    "                <td>Es una característica clave para diferenciar las especies, ya que cada una tiene rangos típicos de peso.</td>\n",
    "            </tr>\n",
    "            <tr>\n",
    "                <td>Length1</td>\n",
    "                <td>Longitud desde la punta de la cabeza hasta el final (primer medida).</td>\n",
    "                <td>Contribuye a describir el tamaño del marisco.</td>\n",
    "            </tr>\n",
    "            <tr>\n",
    "                <td>Length2</td>\n",
    "                <td>Longitud máxima del marisco (segunda medida).</td>\n",
    "                <td>Complementa la información del tamaño general.</td>\n",
    "            </tr>\n",
    "            <tr>\n",
    "                <td>Length3</td>\n",
    "                <td>Longitud diagonal del marisco (tercera medida).</td>\n",
    "                <td>Da información adicional sobre la forma del cuerpo.</td>\n",
    "            </tr>\n",
    "            <tr>\n",
    "                <td>Height</td>\n",
    "                <td>Altura máxima del cuerpo (proporcional al tamaño).</td>\n",
    "                <td>Útil para distinguir especies con formas más anchas o altas.</td>\n",
    "            </tr>\n",
    "            <tr>\n",
    "                <td>Width</td>\n",
    "                <td>Ancho máximo del cuerpo del marisco.</td>\n",
    "                <td>Diferencia especies con cuerpos más delgados o robustos.\n",
    "            </tr>\n",
    "        </tbody>\n",
    "    </table>"
   ]
  },
  {
   "cell_type": "markdown",
   "id": "8b4aa6c8-8327-449b-8038-c633ca7d2910",
   "metadata": {},
   "source": [
    "<a id=\"preprocesamiento4\">\n",
    "<h3 style=\"text-align: center; background: #16633b; color: white; padding: 15px 0; margin: 0\"> \n",
    "    Preprocesamiento\n",
    "</h3>"
   ]
  },
  {
   "cell_type": "markdown",
   "id": "4a3108f3-fcbf-4700-93fc-36150c61503e",
   "metadata": {},
   "source": [
    "### Construimos nuestro diccionario"
   ]
  },
  {
   "cell_type": "code",
   "execution_count": 5,
   "id": "10cb8bad-f0b9-4359-903a-5db17fe51ae5",
   "metadata": {},
   "outputs": [
    {
     "name": "stdout",
     "output_type": "stream",
     "text": [
      "            Tipo\n",
      "Species   object\n",
      "Weight   float64\n",
      "Length1  float64\n",
      "Length2  float64\n",
      "Length3  float64\n",
      "Height   float64\n",
      "Width    float64\n"
     ]
    }
   ],
   "source": [
    "datadict = pd.DataFrame(df_mariscos.dtypes)\n",
    "datadict.columns = ['Tipo']\n",
    "print(datadict)"
   ]
  },
  {
   "cell_type": "markdown",
   "id": "a62eb873-c959-49bf-a74a-288b7b567820",
   "metadata": {},
   "source": [
    "<a id=\"perdidos4\">\n",
    "<h4 style=\"text-align: center; background: #049346; color: white; padding: 15px 0; margin: 0\"> \n",
    "    Manejo de datos perdidos\n",
    "</h4>"
   ]
  },
  {
   "cell_type": "markdown",
   "id": "866c356f-f645-48d3-9958-da03957e8a41",
   "metadata": {},
   "source": [
    "### Buscando datos perdidos y duplicados"
   ]
  },
  {
   "cell_type": "code",
   "execution_count": 6,
   "id": "aa3c3537-e583-4475-b184-dac0967d9989",
   "metadata": {},
   "outputs": [
    {
     "name": "stdout",
     "output_type": "stream",
     "text": [
      "Numéricos nulos: \n",
      "Weight     0\n",
      "Length1    0\n",
      "Length2    0\n",
      "Length3    0\n",
      "Height     0\n",
      "Width      0\n",
      "dtype: int64\n",
      "Categoricos nulos: \n",
      "Species    0\n",
      "dtype: int64\n",
      "\n"
     ]
    }
   ],
   "source": [
    "numericos_df = df_mariscos.select_dtypes(include=['float64'])\n",
    "categoricos_df = df_mariscos.select_dtypes(include=['object'])\n",
    "print(f'Numéricos nulos: \\n{numericos_df.isnull().sum()}')\n",
    "print(f'Categoricos nulos: \\n{categoricos_df.isnull().sum()}\\n')"
   ]
  },
  {
   "cell_type": "markdown",
   "id": "32f99b21-3eab-4b1e-a2b4-522ff04d0de8",
   "metadata": {},
   "source": [
    "### Agregamos la columna de datos perdidos y duplicados a nuestro diccionario"
   ]
  },
  {
   "cell_type": "code",
   "execution_count": 7,
   "id": "3fd38536-9e9d-4d72-8771-1c1f6500e92a",
   "metadata": {},
   "outputs": [
    {
     "name": "stdout",
     "output_type": "stream",
     "text": [
      "            Tipo  Perdidos\n",
      "Species   object         0\n",
      "Weight   float64         0\n",
      "Length1  float64         0\n",
      "Length2  float64         0\n",
      "Length3  float64         0\n",
      "Height   float64         0\n",
      "Width    float64         0\n"
     ]
    }
   ],
   "source": [
    "perdidos = df_mariscos.isnull().sum()\n",
    "datadict['Perdidos'] = perdidos\n",
    "print(datadict)"
   ]
  },
  {
   "cell_type": "code",
   "execution_count": 8,
   "id": "ddce3f77-261b-45d2-acbf-fe945e99fdf0",
   "metadata": {},
   "outputs": [
    {
     "data": {
      "text/html": [
       "<div>\n",
       "<style scoped>\n",
       "    .dataframe tbody tr th:only-of-type {\n",
       "        vertical-align: middle;\n",
       "    }\n",
       "\n",
       "    .dataframe tbody tr th {\n",
       "        vertical-align: top;\n",
       "    }\n",
       "\n",
       "    .dataframe thead th {\n",
       "        text-align: right;\n",
       "    }\n",
       "</style>\n",
       "<table border=\"1\" class=\"dataframe\">\n",
       "  <thead>\n",
       "    <tr style=\"text-align: right;\">\n",
       "      <th></th>\n",
       "      <th>Tipo</th>\n",
       "      <th>Perdidos</th>\n",
       "      <th>Duplicados</th>\n",
       "    </tr>\n",
       "  </thead>\n",
       "  <tbody>\n",
       "    <tr>\n",
       "      <th>Species</th>\n",
       "      <td>object</td>\n",
       "      <td>0</td>\n",
       "      <td>0</td>\n",
       "    </tr>\n",
       "    <tr>\n",
       "      <th>Weight</th>\n",
       "      <td>float64</td>\n",
       "      <td>0</td>\n",
       "      <td>0</td>\n",
       "    </tr>\n",
       "    <tr>\n",
       "      <th>Length1</th>\n",
       "      <td>float64</td>\n",
       "      <td>0</td>\n",
       "      <td>0</td>\n",
       "    </tr>\n",
       "    <tr>\n",
       "      <th>Length2</th>\n",
       "      <td>float64</td>\n",
       "      <td>0</td>\n",
       "      <td>0</td>\n",
       "    </tr>\n",
       "    <tr>\n",
       "      <th>Length3</th>\n",
       "      <td>float64</td>\n",
       "      <td>0</td>\n",
       "      <td>0</td>\n",
       "    </tr>\n",
       "    <tr>\n",
       "      <th>Height</th>\n",
       "      <td>float64</td>\n",
       "      <td>0</td>\n",
       "      <td>0</td>\n",
       "    </tr>\n",
       "    <tr>\n",
       "      <th>Width</th>\n",
       "      <td>float64</td>\n",
       "      <td>0</td>\n",
       "      <td>0</td>\n",
       "    </tr>\n",
       "  </tbody>\n",
       "</table>\n",
       "</div>"
      ],
      "text/plain": [
       "            Tipo  Perdidos  Duplicados\n",
       "Species   object         0           0\n",
       "Weight   float64         0           0\n",
       "Length1  float64         0           0\n",
       "Length2  float64         0           0\n",
       "Length3  float64         0           0\n",
       "Height   float64         0           0\n",
       "Width    float64         0           0"
      ]
     },
     "execution_count": 8,
     "metadata": {},
     "output_type": "execute_result"
    }
   ],
   "source": [
    "duplicados = df_mariscos.duplicated().sum()\n",
    "datadict['Duplicados'] = duplicados\n",
    "datadict"
   ]
  },
  {
   "cell_type": "markdown",
   "id": "19d20a5a-268a-42fa-aecf-f85a76bf79a3",
   "metadata": {},
   "source": [
    "<a id=\"per_num4\">\n",
    "<h5 style=\"text-align: center; background: #c0ffda; color: black; padding: 15px 0; margin: 0\"> \n",
    "    Numéricos\n",
    "</h5>"
   ]
  },
  {
   "cell_type": "markdown",
   "id": "58bdb6b9-ba6e-4d54-843f-75b9d05cfecd",
   "metadata": {},
   "source": [
    "<p sytle=\"text-align: justify;\">Para imputar valores nulos con datos numéricos podemos usar la media, mediana, moda u alguna fórmula en específico, dependiendo de nuestro conjunto de datos, sin embargo, no encontramos ningún valor nulo, pero debido a que en nuestro conjunto de datos hayamos datos con valores igual a 0, entonces aplicamos la media para imputar ese valor.</p>"
   ]
  },
  {
   "cell_type": "code",
   "execution_count": 9,
   "id": "a47aec53-dcc9-4183-958e-b3707c9c1883",
   "metadata": {},
   "outputs": [
    {
     "name": "stdout",
     "output_type": "stream",
     "text": [
      "Numéricos nulos: \n",
      "Weight     0\n",
      "Length1    0\n",
      "Length2    0\n",
      "Length3    0\n",
      "Height     0\n",
      "Width      0\n",
      "dtype: int64\n"
     ]
    }
   ],
   "source": [
    "print(f'Numéricos nulos: \\n{numericos_df.isnull().sum()}')"
   ]
  },
  {
   "cell_type": "markdown",
   "id": "772e2814-64e2-4332-afd8-7eead11ab8d2",
   "metadata": {},
   "source": [
    "### Aplicando algoritmo de imputación de datos nulos (si existieran)"
   ]
  },
  {
   "cell_type": "code",
   "execution_count": 10,
   "id": "e6d7d9cf-cb4a-47ac-9783-97b4fc2e0f7e",
   "metadata": {},
   "outputs": [],
   "source": [
    "from sklearn.impute import SimpleImputer\n",
    "\n",
    "# Identificar valores nulos\n",
    "missing_data = df_mariscos.isnull().sum()\n",
    "\n",
    "# Imputación de datos numéricos\n",
    "num_cols = ['Weight', 'Length1', 'Length2', 'Length3', 'Height', 'Width']\n",
    "num_imputer = SimpleImputer(strategy='mean')\n",
    "df_mariscos[num_cols] = num_imputer.fit_transform(df_mariscos[num_cols])"
   ]
  },
  {
   "cell_type": "markdown",
   "id": "befa24e1-4e30-4454-975f-3475e1635273",
   "metadata": {},
   "source": [
    "### Identificando que columnas tienen algún valor en 0"
   ]
  },
  {
   "cell_type": "code",
   "execution_count": 11,
   "id": "cdab669f-7fa3-4816-8f36-5d866cc78128",
   "metadata": {},
   "outputs": [
    {
     "data": {
      "text/html": [
       "<div>\n",
       "<style scoped>\n",
       "    .dataframe tbody tr th:only-of-type {\n",
       "        vertical-align: middle;\n",
       "    }\n",
       "\n",
       "    .dataframe tbody tr th {\n",
       "        vertical-align: top;\n",
       "    }\n",
       "\n",
       "    .dataframe thead th {\n",
       "        text-align: right;\n",
       "    }\n",
       "</style>\n",
       "<table border=\"1\" class=\"dataframe\">\n",
       "  <thead>\n",
       "    <tr style=\"text-align: right;\">\n",
       "      <th></th>\n",
       "      <th>Tipo</th>\n",
       "      <th>Perdidos</th>\n",
       "      <th>Duplicados</th>\n",
       "      <th>Valores en 0</th>\n",
       "    </tr>\n",
       "  </thead>\n",
       "  <tbody>\n",
       "    <tr>\n",
       "      <th>Species</th>\n",
       "      <td>object</td>\n",
       "      <td>0</td>\n",
       "      <td>0</td>\n",
       "      <td>0</td>\n",
       "    </tr>\n",
       "    <tr>\n",
       "      <th>Weight</th>\n",
       "      <td>float64</td>\n",
       "      <td>0</td>\n",
       "      <td>0</td>\n",
       "      <td>1</td>\n",
       "    </tr>\n",
       "    <tr>\n",
       "      <th>Length1</th>\n",
       "      <td>float64</td>\n",
       "      <td>0</td>\n",
       "      <td>0</td>\n",
       "      <td>0</td>\n",
       "    </tr>\n",
       "    <tr>\n",
       "      <th>Length2</th>\n",
       "      <td>float64</td>\n",
       "      <td>0</td>\n",
       "      <td>0</td>\n",
       "      <td>0</td>\n",
       "    </tr>\n",
       "    <tr>\n",
       "      <th>Length3</th>\n",
       "      <td>float64</td>\n",
       "      <td>0</td>\n",
       "      <td>0</td>\n",
       "      <td>0</td>\n",
       "    </tr>\n",
       "    <tr>\n",
       "      <th>Height</th>\n",
       "      <td>float64</td>\n",
       "      <td>0</td>\n",
       "      <td>0</td>\n",
       "      <td>0</td>\n",
       "    </tr>\n",
       "    <tr>\n",
       "      <th>Width</th>\n",
       "      <td>float64</td>\n",
       "      <td>0</td>\n",
       "      <td>0</td>\n",
       "      <td>0</td>\n",
       "    </tr>\n",
       "  </tbody>\n",
       "</table>\n",
       "</div>"
      ],
      "text/plain": [
       "            Tipo  Perdidos  Duplicados  Valores en 0\n",
       "Species   object         0           0             0\n",
       "Weight   float64         0           0             1\n",
       "Length1  float64         0           0             0\n",
       "Length2  float64         0           0             0\n",
       "Length3  float64         0           0             0\n",
       "Height   float64         0           0             0\n",
       "Width    float64         0           0             0"
      ]
     },
     "execution_count": 11,
     "metadata": {},
     "output_type": "execute_result"
    }
   ],
   "source": [
    "zero = df_mariscos[df_mariscos.isin([0])].count()\n",
    "datadict['Valores en 0'] = zero\n",
    "datadict"
   ]
  },
  {
   "cell_type": "markdown",
   "id": "61809211-cb07-4d06-b423-1b9e72b903c7",
   "metadata": {},
   "source": [
    "### Imputando el valor en 0 con la mediana"
   ]
  },
  {
   "cell_type": "code",
   "execution_count": 12,
   "id": "1759d2c9-426c-4898-9b3d-c97d5f032858",
   "metadata": {},
   "outputs": [],
   "source": [
    "mediana_weight = numericos_df['Weight'].median()\n",
    "numericos_df['Weight'].replace(0, mediana_weight, inplace=True)\n",
    "numericos_df[numericos_df.isin([0])].count()\n",
    "df_mariscos.iloc[:,1:] = numericos_df"
   ]
  },
  {
   "cell_type": "markdown",
   "id": "a3f99012-826b-45ef-afad-301109a8d240",
   "metadata": {},
   "source": [
    "### Verificando que ya no exista níngun valor en 0"
   ]
  },
  {
   "cell_type": "code",
   "execution_count": 13,
   "id": "68235cfb-82d0-4b1b-b890-97f683a63bb3",
   "metadata": {},
   "outputs": [
    {
     "data": {
      "text/html": [
       "<div>\n",
       "<style scoped>\n",
       "    .dataframe tbody tr th:only-of-type {\n",
       "        vertical-align: middle;\n",
       "    }\n",
       "\n",
       "    .dataframe tbody tr th {\n",
       "        vertical-align: top;\n",
       "    }\n",
       "\n",
       "    .dataframe thead th {\n",
       "        text-align: right;\n",
       "    }\n",
       "</style>\n",
       "<table border=\"1\" class=\"dataframe\">\n",
       "  <thead>\n",
       "    <tr style=\"text-align: right;\">\n",
       "      <th></th>\n",
       "      <th>Tipo</th>\n",
       "      <th>Perdidos</th>\n",
       "      <th>Duplicados</th>\n",
       "      <th>Valores en 0</th>\n",
       "    </tr>\n",
       "  </thead>\n",
       "  <tbody>\n",
       "    <tr>\n",
       "      <th>Species</th>\n",
       "      <td>object</td>\n",
       "      <td>0</td>\n",
       "      <td>0</td>\n",
       "      <td>0</td>\n",
       "    </tr>\n",
       "    <tr>\n",
       "      <th>Weight</th>\n",
       "      <td>float64</td>\n",
       "      <td>0</td>\n",
       "      <td>0</td>\n",
       "      <td>0</td>\n",
       "    </tr>\n",
       "    <tr>\n",
       "      <th>Length1</th>\n",
       "      <td>float64</td>\n",
       "      <td>0</td>\n",
       "      <td>0</td>\n",
       "      <td>0</td>\n",
       "    </tr>\n",
       "    <tr>\n",
       "      <th>Length2</th>\n",
       "      <td>float64</td>\n",
       "      <td>0</td>\n",
       "      <td>0</td>\n",
       "      <td>0</td>\n",
       "    </tr>\n",
       "    <tr>\n",
       "      <th>Length3</th>\n",
       "      <td>float64</td>\n",
       "      <td>0</td>\n",
       "      <td>0</td>\n",
       "      <td>0</td>\n",
       "    </tr>\n",
       "    <tr>\n",
       "      <th>Height</th>\n",
       "      <td>float64</td>\n",
       "      <td>0</td>\n",
       "      <td>0</td>\n",
       "      <td>0</td>\n",
       "    </tr>\n",
       "    <tr>\n",
       "      <th>Width</th>\n",
       "      <td>float64</td>\n",
       "      <td>0</td>\n",
       "      <td>0</td>\n",
       "      <td>0</td>\n",
       "    </tr>\n",
       "  </tbody>\n",
       "</table>\n",
       "</div>"
      ],
      "text/plain": [
       "            Tipo  Perdidos  Duplicados  Valores en 0\n",
       "Species   object         0           0             0\n",
       "Weight   float64         0           0             0\n",
       "Length1  float64         0           0             0\n",
       "Length2  float64         0           0             0\n",
       "Length3  float64         0           0             0\n",
       "Height   float64         0           0             0\n",
       "Width    float64         0           0             0"
      ]
     },
     "execution_count": 13,
     "metadata": {},
     "output_type": "execute_result"
    }
   ],
   "source": [
    "zero = df_mariscos[df_mariscos.isin([0])].count()\n",
    "datadict['Valores en 0'] = zero\n",
    "datadict"
   ]
  },
  {
   "cell_type": "markdown",
   "id": "1737e788-6bf0-4af9-a787-2dfc930694fa",
   "metadata": {},
   "source": [
    "<a id=\"per_cat4\">\n",
    "<h5 style=\"text-align: center; background: #c0ffda; color: black; padding: 15px 0; margin: 0\"> \n",
    "    Categóricos\n",
    "</h5>"
   ]
  },
  {
   "cell_type": "markdown",
   "id": "50aef61f-f4ca-4df8-a28c-7fac7023ea51",
   "metadata": {},
   "source": [
    "<p sytle=\"text-align: justify;\">Para imputar valores nulos con datos categóricos podemos usar la moda u algún formula en específico, dependiendo de nuestro conjunto de datos, sin embargo, no fue necesario hacer esto, debido a que no teníamos ningún valor nulo.</p>"
   ]
  },
  {
   "cell_type": "code",
   "execution_count": 14,
   "id": "5b4f6264-6ff1-4f4a-a1e8-6d33886ef2be",
   "metadata": {},
   "outputs": [
    {
     "name": "stdout",
     "output_type": "stream",
     "text": [
      "Categoricos nulos: \n",
      "Species    0\n",
      "dtype: int64\n",
      "\n"
     ]
    }
   ],
   "source": [
    "print(f'Categoricos nulos: \\n{categoricos_df.isnull().sum()}\\n')"
   ]
  },
  {
   "cell_type": "markdown",
   "id": "b3fcac3e-8526-42f7-a278-e9f764b91b7a",
   "metadata": {},
   "source": [
    "### Ejemplo si hubieran datos nulos"
   ]
  },
  {
   "cell_type": "code",
   "execution_count": 15,
   "id": "6f598a99-49b5-442d-a5da-09dbe9f5f77a",
   "metadata": {},
   "outputs": [],
   "source": [
    "from sklearn.impute import SimpleImputer\n",
    "\n",
    "# Identificar valores nulos\n",
    "missing_data = df_mariscos.isnull().sum()\n",
    "\n",
    "# Imputación de datos categóricos\n",
    "cat_cols = ['Species']\n",
    "cat_imputer = SimpleImputer(strategy='most_frequent')\n",
    "df_mariscos[cat_cols] = cat_imputer.fit_transform(df_mariscos[cat_cols])"
   ]
  },
  {
   "cell_type": "markdown",
   "id": "aabb6dbf-75a2-420a-861e-12dbd4592383",
   "metadata": {},
   "source": [
    "<a id=\"cod_cat4\">\n",
    "<h4 style=\"text-align: center; background: #049346; color: white; padding: 15px 0; margin: 0\"> \n",
    "    Codificación de datos categóricos\n",
    "</h4>"
   ]
  },
  {
   "cell_type": "markdown",
   "id": "045a08f0-8c68-4ee4-97fb-0ffb389e460a",
   "metadata": {},
   "source": [
    "<p sytle=\"text-align: justify;\">\n",
    "No es necesario codificar la variable Species, ya que el modelo de Bosques Aleatorios puede manejar variables categóricas de forma interna. Sin embargo, si decidimos codificarla, no habría ningún inconveniente.\n",
    "</p>"
   ]
  },
  {
   "cell_type": "markdown",
   "id": "c37e50f2-0df9-4cdf-82d9-43f02a0ea832",
   "metadata": {},
   "source": [
    "### Convertimos la variable categórica Species en un formato numérico usando Label Encoding.\n",
    "Nota: También puede ser con One-Hot Encoding"
   ]
  },
  {
   "cell_type": "code",
   "execution_count": 16,
   "id": "29c98c15-0db9-4ad2-95a9-3289410020ec",
   "metadata": {},
   "outputs": [],
   "source": [
    "from sklearn.preprocessing import LabelEncoder\n",
    "\n",
    "# Codificación de la etiqueta Species con Label Encoding\n",
    "label_encoder = LabelEncoder()\n",
    "df_mariscos['Species'] = label_encoder.fit_transform(df_mariscos['Species'])"
   ]
  },
  {
   "cell_type": "markdown",
   "id": "ddad0438-9e2c-4bb9-b2ca-361f88d166f4",
   "metadata": {},
   "source": [
    "<a id=\"dis_cat4\">\n",
    "<h4 style=\"text-align: center; background: #049346; color: white; padding: 15px 0; margin: 0\"> \n",
    "    Discretización de datos numéricos\n",
    "</h4>"
   ]
  },
  {
   "cell_type": "markdown",
   "id": "d1211010-978a-41f1-b24e-83fbe60c60b7",
   "metadata": {},
   "source": [
    "<p style=\"text-align: justify;\"> \n",
    "No es necesario discretizar las variables numéricas, ya que el modelo de Bosques Aleatorios puede manejarlas directamente, aprovechando su capacidad para dividir y clasificar los datos en puntos de corte continuos. Aunque es posible agrupar variables continuas, como Weight, en categorías (por ejemplo, bajo, medio, alto) para facilitar algunos análisis, esto no es esencial para el algoritmo de Random Forest.\n",
    "</p>"
   ]
  },
  {
   "cell_type": "markdown",
   "id": "4608756e-fcc4-4a32-b92b-d672c8b297d1",
   "metadata": {},
   "source": [
    "### Ejemplo si es que se discretizaran los datos"
   ]
  },
  {
   "cell_type": "code",
   "execution_count": 17,
   "id": "e6f9ee04-606b-41bf-95a2-066cc1b32364",
   "metadata": {},
   "outputs": [
    {
     "name": "stdout",
     "output_type": "stream",
     "text": [
      "     Weight Weight_Category\n",
      "100   197.0          Ligero\n",
      "150     8.7          Ligero\n",
      "119   850.0          Pesado\n",
      "44    145.0          Ligero\n",
      "129   300.0         Mediano\n",
      "70    273.0         Mediano\n",
      "33    975.0          Pesado\n",
      "113   700.0          Pesado\n",
      "64    120.0          Ligero\n",
      "153     9.8          Ligero\n"
     ]
    }
   ],
   "source": [
    "# Crear rangos de peso\n",
    "bins = [0, 200, 600, float('inf')]  # Límites para los grupos\n",
    "labels = ['Ligero', 'Mediano', 'Pesado']  # Nombres para los grupos\n",
    "\n",
    "# Discretizar la columna Weight\n",
    "df_mariscos['Weight_Category'] = pd.cut(df_mariscos['Weight'], bins=bins, labels=labels)\n",
    "\n",
    "# Verificar resultados\n",
    "print(df_mariscos[['Weight', 'Weight_Category']].sample(10))"
   ]
  },
  {
   "cell_type": "markdown",
   "id": "5afc58cc-c833-45b0-8691-b89dac5862b3",
   "metadata": {},
   "source": [
    "<p style=\"text-align: justify\">Si se aplica esta discretización, la nueva columna Weight_Category debe ser codificada (por ejemplo, usando One-Hot Encoding) antes de ser usada en el modelo. Sin embargo, en algoritmos como Random Forest, es preferible trabajar con valores continuos, ya que pueden capturar mejor la relación entre el peso y la especie.</p>"
   ]
  },
  {
   "cell_type": "code",
   "execution_count": 18,
   "id": "71bbee9c-8c25-4cd6-a0c7-d8074bbacfe6",
   "metadata": {},
   "outputs": [],
   "source": [
    "df_mariscos.drop(['Weight_Category'], axis=1, inplace=True)"
   ]
  },
  {
   "cell_type": "markdown",
   "id": "fbb879fe-0dbd-4174-a6d0-95102c8487e0",
   "metadata": {},
   "source": [
    "<a id=\"atipicos4\">\n",
    "<h4 style=\"text-align: center; background: #049346; color: white; padding: 15px 0; margin: 0\"> \n",
    "    Manejo de valores atípicos\n",
    "</h4>"
   ]
  },
  {
   "cell_type": "markdown",
   "id": "4124bf2e-06a0-4af8-93a9-0fb670a7c42f",
   "metadata": {},
   "source": [
    "<a id=\"at_graf4\">\n",
    "<h5 style=\"text-align: center; background: #c0ffda; color: black; padding: 15px 0; margin: 0\"> \n",
    "    Graficación de valores atípicos\n",
    "</h5>"
   ]
  },
  {
   "cell_type": "markdown",
   "id": "fe19224b-44c6-466f-880e-c83ae4308a63",
   "metadata": {},
   "source": [
    "### Creamos una función para graficar nuestros valores atípicos\n",
    "La cual posteriormente sera utilizada como estrategía para eliminar o imputar los mismos."
   ]
  },
  {
   "cell_type": "code",
   "execution_count": 19,
   "id": "e41546fd-f5b8-4982-806d-2e2c266b949f",
   "metadata": {
    "scrolled": true
   },
   "outputs": [
    {
     "data": {
      "image/png": "[encoded data removed]",
      "text/plain": [
       "<Figure size 1500x1000 with 6 Axes>"
      ]
     },
     "metadata": {},
     "output_type": "display_data"
    }
   ],
   "source": [
    "def diagramas_bigotes(df, columnas):\n",
    "    bigotes = []\n",
    "    \n",
    "    # Define el número de filas y columnas\n",
    "    n_filas = 2\n",
    "    n_columnas = 3\n",
    "    \n",
    "    # Crea la figura con subgráficos\n",
    "    fig, axes = plt.subplots(n_filas, n_columnas, figsize=(15, 10))  # Tamaño de la figura ajustado para 9 gráficos\n",
    "    axes = axes.flatten()  # Convirtiendo los subgráficos en un solo array de 1D para poder indexarlos fácilmente\n",
    "\n",
    "    for i, columna in enumerate(columnas):\n",
    "        # Calcular estadísticas\n",
    "        media = round(df[columna].mean(), 2)\n",
    "        minimo = round(df[columna].min(), 2)\n",
    "        maximo = round(df[columna].max(), 2)\n",
    "        q1 = round(df[columna].quantile(0.25), 2)\n",
    "        q2 = round(df[columna].quantile(0.50), 2)\n",
    "        q3 = round(df[columna].quantile(0.75), 2)\n",
    "        bigote_sup = round(q3 + 1.5 * (q3 - q1), 2)\n",
    "        \n",
    "        # Creando el boxplot en el subgráfico correspondiente\n",
    "        axes[i].boxplot(df[columna], vert=False)\n",
    "        \n",
    "        # Agregar el título y las leyendas con las estadísticas\n",
    "        axes[i].set_title(f'Valores atípicos de {columna}')\n",
    "        leyenda = [\n",
    "            f'Media: {media}',\n",
    "            f'Mínimo: {minimo}',\n",
    "            f'Q1: {q1}',\n",
    "            f'Q2 (Mediana): {q2}',\n",
    "            f'Q3: {q3}',\n",
    "            f'Máximo: {maximo}',\n",
    "            f'Big_sup: {bigote_sup}'\n",
    "        ]\n",
    "        # Agrega las leyendas\n",
    "        axes[i].legend(leyenda, loc='upper right')\n",
    "        axes[i].set_xlabel(f'{columna}')\n",
    "        \n",
    "        # Agrega el resultado de cada bigote superior a la lista\n",
    "        bigotes.append(bigote_sup)\n",
    "\n",
    "    # Ajusta la disposición para evitar solapamiento\n",
    "    plt.tight_layout()\n",
    "    \n",
    "    # Muestra el gráfico\n",
    "    plt.show()\n",
    "\n",
    "    # Regresar el bigote superior\n",
    "    return bigotes\n",
    "\n",
    "columnas = df_mariscos.select_dtypes(include=['float64']).columns\n",
    "bigotes_sup = diagramas_bigotes(df_mariscos, columnas)"
   ]
  },
  {
   "cell_type": "markdown",
   "id": "996c1e39-d426-49d9-9b10-a0760a0bb9d7",
   "metadata": {},
   "source": [
    "<a id=\"at_est4\">\n",
    "<h5 style=\"text-align: center; background: #c0ffda; color: black; padding: 15px 0; margin: 0\"> \n",
    "    Estrategia y aplicación de la misma sobre datos atípicos\n",
    "</h5>"
   ]
  },
  {
   "cell_type": "markdown",
   "id": "4039f963-0acc-48ef-85a8-7a017b7e6437",
   "metadata": {},
   "source": [
    "### Quitamos los valores atípicos\n",
    "Debido a que no son muchos, se toma la decision de eliminarlos.\n",
    "\n",
    "<p style=\"text-align:justify\">Para ello, con el valor que nos retornó nuestra función acerca de cuál es el bigote superior de cada gráfica, la ocupamos como parámetro para poder eliminar los valores que estén fuera de nuestro bigote.</p>"
   ]
  },
  {
   "cell_type": "code",
   "execution_count": 20,
   "id": "15ec8c82-4fc6-489e-b5bd-9cfcfb6473ca",
   "metadata": {},
   "outputs": [],
   "source": [
    "for i, columna in enumerate(columnas):\n",
    "    df_mariscos = df_mariscos[df_mariscos[columna] <= bigotes_sup[i]]"
   ]
  },
  {
   "cell_type": "markdown",
   "id": "c8422997-9de5-4b97-91d9-b4be2a67585c",
   "metadata": {},
   "source": [
    "### Verificamos cuantas filas nos quedan después de eliminar los valores atípicos"
   ]
  },
  {
   "cell_type": "code",
   "execution_count": 21,
   "id": "3b0a8d54-fc39-4590-9d66-8c5c21752247",
   "metadata": {},
   "outputs": [
    {
     "data": {
      "text/plain": [
       "(156, 7)"
      ]
     },
     "execution_count": 21,
     "metadata": {},
     "output_type": "execute_result"
    }
   ],
   "source": [
    "df_mariscos.shape"
   ]
  },
  {
   "cell_type": "markdown",
   "id": "c35cd83d-3eab-4c91-9045-595a6a33e8a4",
   "metadata": {},
   "source": [
    "### Volvemos a graficar para comprobar que se han elimiando"
   ]
  },
  {
   "cell_type": "code",
   "execution_count": 22,
   "id": "2d88f9ea-c81c-4978-a55f-e571107527f7",
   "metadata": {
    "scrolled": true
   },
   "outputs": [
    {
     "data": {
      "image/png": "[encoded data removed]",
      "text/plain": [
       "<Figure size 1500x1000 with 6 Axes>"
      ]
     },
     "metadata": {},
     "output_type": "display_data"
    },
    {
     "data": {
      "text/plain": [
       "[1351.25, 51.8, 56.0, 64.02, 22.06, 8.49]"
      ]
     },
     "execution_count": 22,
     "metadata": {},
     "output_type": "execute_result"
    }
   ],
   "source": [
    "diagramas_bigotes(df_mariscos, columnas)"
   ]
  },
  {
   "cell_type": "markdown",
   "id": "ae6cbfe9-a82c-48e1-907b-e69330433a52",
   "metadata": {},
   "source": [
    "<a id=\"escalamiento4\">\n",
    "<h4 style=\"text-align: center; background: #049346; color: white; padding: 15px 0; margin: 0\"> \n",
    "    Escalamiento\n",
    "</h4>"
   ]
  },
  {
   "cell_type": "markdown",
   "id": "f908270f-4dfa-4687-ab82-480ac5f9b1d2",
   "metadata": {},
   "source": [
    "<a id=\"esc_raz4\">\n",
    "<h5 style=\"text-align: center; background: #c0ffda; color: black; padding: 15px 0; margin: 0\"> \n",
    "    Razones para escalar\n",
    "</h5>"
   ]
  },
  {
   "cell_type": "markdown",
   "id": "234d790b-e87c-4b03-b82b-1ad24a8ecb66",
   "metadata": {},
   "source": [
    "<p style=\"text-align:justify;\">\n",
    "Los algoritmos basados en distancias, como SVM y KNN, requieren escalamiento para evitar que las características con valores más grandes dominen en el cálculo. Aunque los modelos de Bosques Aleatorios (Random Forest) no son sensibles al escalamiento, en ciertos casos puede mejorar la estabilidad del modelo. Sin embargo, en este caso específico, no se aplicó escalamiento, ya que el modelo mostró una mayor precisión cuando los datos no fueron escalados.\n",
    "</p>"
   ]
  },
  {
   "cell_type": "markdown",
   "id": "207a844a-4448-44e6-bd9c-c15e50748c85",
   "metadata": {},
   "source": [
    "<a id=\"esc_est4\">\n",
    "<h5 style=\"text-align: center; background: #c0ffda; color: black; padding: 15px 0; margin: 0\"> \n",
    "    Estrategia y aplicación del Escalamiento (Estandarización, Min/Max, escalamiento, etc.)\n",
    "</h5>"
   ]
  },
  {
   "cell_type": "markdown",
   "id": "d26c4540-220e-4cf4-b1f4-780818577bcd",
   "metadata": {},
   "source": [
    "### Separamos en X e y"
   ]
  },
  {
   "cell_type": "code",
   "execution_count": 23,
   "id": "ff80823d-cb4a-411b-9a7d-82c4942f2570",
   "metadata": {},
   "outputs": [],
   "source": [
    "X_rf = df_mariscos.drop('Species', axis=1)\n",
    "y_rf = df_mariscos['Species']"
   ]
  },
  {
   "cell_type": "markdown",
   "id": "d24da465-8c86-48bc-957b-6abb211d3d50",
   "metadata": {},
   "source": [
    "### Importamos la librearia de StandardScaler y escalamos los datos (de ser necesario)"
   ]
  },
  {
   "cell_type": "code",
   "execution_count": 24,
   "id": "ad213b26-994f-4441-9a39-8dcdd6032327",
   "metadata": {},
   "outputs": [],
   "source": [
    "# from sklearn.preprocessing import StandardScaler\n",
    "# sc = StandardScaler()\n",
    "# X_rf = sc.fit_transform(X_rf)"
   ]
  },
  {
   "cell_type": "markdown",
   "id": "885cc519-d7b5-4442-a160-0b66eaaa19ed",
   "metadata": {},
   "source": [
    "<a id=\"aplicacion4\">\n",
    "<h3 style=\"text-align: center; background: #16633b; color: white; padding: 15px 0; margin: 0\"> \n",
    "    Aplicación del algoritmo\n",
    "</h3>"
   ]
  },
  {
   "cell_type": "markdown",
   "id": "b0931ade-d77c-4ccc-8407-c94b376136c1",
   "metadata": {},
   "source": [
    "### Separamos en X e y"
   ]
  },
  {
   "cell_type": "code",
   "execution_count": 25,
   "id": "421991ce-256e-4247-b184-e33360d3377e",
   "metadata": {},
   "outputs": [],
   "source": [
    "X_rf = df_mariscos.drop('Species', axis=1)\n",
    "y_rf = df_mariscos['Species']"
   ]
  },
  {
   "cell_type": "markdown",
   "id": "bee4b056-1441-4515-8e9b-729fde0a0a4e",
   "metadata": {},
   "source": [
    "### Importamos la librería de train_test_split y creamos nuestras variables de prueba y entrenamiento "
   ]
  },
  {
   "cell_type": "code",
   "execution_count": 26,
   "id": "99f48ec2-8f48-4ba9-af59-8e7607c55d67",
   "metadata": {},
   "outputs": [],
   "source": [
    "from sklearn.model_selection import train_test_split\n",
    "\n",
    "# 30% para test y 70% para train\n",
    "X_train_rf, X_test_rf, y_train_rf, y_test_rf = train_test_split(X_rf, y_rf, test_size=0.30, random_state=42)"
   ]
  },
  {
   "cell_type": "markdown",
   "id": "2cb7181c-2403-4780-be4d-954f16b65c40",
   "metadata": {},
   "source": [
    "### Escalamos (de ser necesario)"
   ]
  },
  {
   "cell_type": "code",
   "execution_count": 27,
   "id": "d8285427-ad79-4676-aaab-eb5427bc3d40",
   "metadata": {},
   "outputs": [],
   "source": [
    "# from sklearn.preprocessing import StandardScaler\n",
    "# sc = StandardScaler()\n",
    "# X_train_rf = sc.fit_transform(X_train_rf)\n",
    "# X_test_rf = sc.fit_transform(X_test_rf)"
   ]
  },
  {
   "cell_type": "markdown",
   "id": "f2df1df9-712d-4b5e-82b6-9f7ec783a9d8",
   "metadata": {},
   "source": [
    "### Importamos la librería de RandomForestClassifier y creamos nuestro modelo"
   ]
  },
  {
   "cell_type": "code",
   "execution_count": 28,
   "id": "75d32b28-815f-4d76-ab83-eb6f605d5536",
   "metadata": {},
   "outputs": [],
   "source": [
    "from sklearn.ensemble import RandomForestClassifier\n",
    "\n",
    "# Creación del modelo con 10 árboles de decisión\n",
    "random_forest = RandomForestClassifier(n_estimators=10, random_state=42)"
   ]
  },
  {
   "cell_type": "markdown",
   "id": "b0acb493-b23a-47db-802c-f530020ccc7e",
   "metadata": {},
   "source": [
    "### Entrenamos nuestro modelo"
   ]
  },
  {
   "cell_type": "code",
   "execution_count": 29,
   "id": "cae917d2-8315-4099-b2dc-3788f91c1c2b",
   "metadata": {},
   "outputs": [
    {
     "data": {
      "text/html": [
       "<style>#sk-container-id-1 {\n",
       "  /* Definition of color scheme common for light and dark mode */\n",
       "  --sklearn-color-text: black;\n",
       "  --sklearn-color-line: gray;\n",
       "  /* Definition of color scheme for unfitted estimators */\n",
       "  --sklearn-color-unfitted-level-0: #fff5e6;\n",
       "  --sklearn-color-unfitted-level-1: #f6e4d2;\n",
       "  --sklearn-color-unfitted-level-2: #ffe0b3;\n",
       "  --sklearn-color-unfitted-level-3: chocolate;\n",
       "  /* Definition of color scheme for fitted estimators */\n",
       "  --sklearn-color-fitted-level-0: #f0f8ff;\n",
       "  --sklearn-color-fitted-level-1: #d4ebff;\n",
       "  --sklearn-color-fitted-level-2: #b3dbfd;\n",
       "  --sklearn-color-fitted-level-3: cornflowerblue;\n",
       "\n",
       "  /* Specific color for light theme */\n",
       "  --sklearn-color-text-on-default-background: var(--sg-text-color, var(--theme-code-foreground, var(--jp-content-font-color1, black)));\n",
       "  --sklearn-color-background: var(--sg-background-color, var(--theme-background, var(--jp-layout-color0, white)));\n",
       "  --sklearn-color-border-box: var(--sg-text-color, var(--theme-code-foreground, var(--jp-content-font-color1, black)));\n",
       "  --sklearn-color-icon: #696969;\n",
       "\n",
       "  @media (prefers-color-scheme: dark) {\n",
       "    /* Redefinition of color scheme for dark theme */\n",
       "    --sklearn-color-text-on-default-background: var(--sg-text-color, var(--theme-code-foreground, var(--jp-content-font-color1, white)));\n",
       "    --sklearn-color-background: var(--sg-background-color, var(--theme-background, var(--jp-layout-color0, #111)));\n",
       "    --sklearn-color-border-box: var(--sg-text-color, var(--theme-code-foreground, var(--jp-content-font-color1, white)));\n",
       "    --sklearn-color-icon: #878787;\n",
       "  }\n",
       "}\n",
       "\n",
       "#sk-container-id-1 {\n",
       "  color: var(--sklearn-color-text);\n",
       "}\n",
       "\n",
       "#sk-container-id-1 pre {\n",
       "  padding: 0;\n",
       "}\n",
       "\n",
       "#sk-container-id-1 input.sk-hidden--visually {\n",
       "  border: 0;\n",
       "  clip: rect(1px 1px 1px 1px);\n",
       "  clip: rect(1px, 1px, 1px, 1px);\n",
       "  height: 1px;\n",
       "  margin: -1px;\n",
       "  overflow: hidden;\n",
       "  padding: 0;\n",
       "  position: absolute;\n",
       "  width: 1px;\n",
       "}\n",
       "\n",
       "#sk-container-id-1 div.sk-dashed-wrapped {\n",
       "  border: 1px dashed var(--sklearn-color-line);\n",
       "  margin: 0 0.4em 0.5em 0.4em;\n",
       "  box-sizing: border-box;\n",
       "  padding-bottom: 0.4em;\n",
       "  background-color: var(--sklearn-color-background);\n",
       "}\n",
       "\n",
       "#sk-container-id-1 div.sk-container {\n",
       "  /* jupyter's `normalize.less` sets `[hidden] { display: none; }`\n",
       "     but bootstrap.min.css set `[hidden] { display: none !important; }`\n",
       "     so we also need the `!important` here to be able to override the\n",
       "     default hidden behavior on the sphinx rendered scikit-learn.org.\n",
       "     See: https://github.com/scikit-learn/scikit-learn/issues/21755 */\n",
       "  display: inline-block !important;\n",
       "  position: relative;\n",
       "}\n",
       "\n",
       "#sk-container-id-1 div.sk-text-repr-fallback {\n",
       "  display: none;\n",
       "}\n",
       "\n",
       "div.sk-parallel-item,\n",
       "div.sk-serial,\n",
       "div.sk-item {\n",
       "  /* draw centered vertical line to link estimators */\n",
       "  background-image: linear-gradient(var(--sklearn-color-text-on-default-background), var(--sklearn-color-text-on-default-background));\n",
       "  background-size: 2px 100%;\n",
       "  background-repeat: no-repeat;\n",
       "  background-position: center center;\n",
       "}\n",
       "\n",
       "/* Parallel-specific style estimator block */\n",
       "\n",
       "#sk-container-id-1 div.sk-parallel-item::after {\n",
       "  content: \"\";\n",
       "  width: 100%;\n",
       "  border-bottom: 2px solid var(--sklearn-color-text-on-default-background);\n",
       "  flex-grow: 1;\n",
       "}\n",
       "\n",
       "#sk-container-id-1 div.sk-parallel {\n",
       "  display: flex;\n",
       "  align-items: stretch;\n",
       "  justify-content: center;\n",
       "  background-color: var(--sklearn-color-background);\n",
       "  position: relative;\n",
       "}\n",
       "\n",
       "#sk-container-id-1 div.sk-parallel-item {\n",
       "  display: flex;\n",
       "  flex-direction: column;\n",
       "}\n",
       "\n",
       "#sk-container-id-1 div.sk-parallel-item:first-child::after {\n",
       "  align-self: flex-end;\n",
       "  width: 50%;\n",
       "}\n",
       "\n",
       "#sk-container-id-1 div.sk-parallel-item:last-child::after {\n",
       "  align-self: flex-start;\n",
       "  width: 50%;\n",
       "}\n",
       "\n",
       "#sk-container-id-1 div.sk-parallel-item:only-child::after {\n",
       "  width: 0;\n",
       "}\n",
       "\n",
       "/* Serial-specific style estimator block */\n",
       "\n",
       "#sk-container-id-1 div.sk-serial {\n",
       "  display: flex;\n",
       "  flex-direction: column;\n",
       "  align-items: center;\n",
       "  background-color: var(--sklearn-color-background);\n",
       "  padding-right: 1em;\n",
       "  padding-left: 1em;\n",
       "}\n",
       "\n",
       "\n",
       "/* Toggleable style: style used for estimator/Pipeline/ColumnTransformer box that is\n",
       "clickable and can be expanded/collapsed.\n",
       "- Pipeline and ColumnTransformer use this feature and define the default style\n",
       "- Estimators will overwrite some part of the style using the `sk-estimator` class\n",
       "*/\n",
       "\n",
       "/* Pipeline and ColumnTransformer style (default) */\n",
       "\n",
       "#sk-container-id-1 div.sk-toggleable {\n",
       "  /* Default theme specific background. It is overwritten whether we have a\n",
       "  specific estimator or a Pipeline/ColumnTransformer */\n",
       "  background-color: var(--sklearn-color-background);\n",
       "}\n",
       "\n",
       "/* Toggleable label */\n",
       "#sk-container-id-1 label.sk-toggleable__label {\n",
       "  cursor: pointer;\n",
       "  display: block;\n",
       "  width: 100%;\n",
       "  margin-bottom: 0;\n",
       "  padding: 0.5em;\n",
       "  box-sizing: border-box;\n",
       "  text-align: center;\n",
       "}\n",
       "\n",
       "#sk-container-id-1 label.sk-toggleable__label-arrow:before {\n",
       "  /* Arrow on the left of the label */\n",
       "  content: \"▸\";\n",
       "  float: left;\n",
       "  margin-right: 0.25em;\n",
       "  color: var(--sklearn-color-icon);\n",
       "}\n",
       "\n",
       "#sk-container-id-1 label.sk-toggleable__label-arrow:hover:before {\n",
       "  color: var(--sklearn-color-text);\n",
       "}\n",
       "\n",
       "/* Toggleable content - dropdown */\n",
       "\n",
       "#sk-container-id-1 div.sk-toggleable__content {\n",
       "  max-height: 0;\n",
       "  max-width: 0;\n",
       "  overflow: hidden;\n",
       "  text-align: left;\n",
       "  /* unfitted */\n",
       "  background-color: var(--sklearn-color-unfitted-level-0);\n",
       "}\n",
       "\n",
       "#sk-container-id-1 div.sk-toggleable__content.fitted {\n",
       "  /* fitted */\n",
       "  background-color: var(--sklearn-color-fitted-level-0);\n",
       "}\n",
       "\n",
       "#sk-container-id-1 div.sk-toggleable__content pre {\n",
       "  margin: 0.2em;\n",
       "  border-radius: 0.25em;\n",
       "  color: var(--sklearn-color-text);\n",
       "  /* unfitted */\n",
       "  background-color: var(--sklearn-color-unfitted-level-0);\n",
       "}\n",
       "\n",
       "#sk-container-id-1 div.sk-toggleable__content.fitted pre {\n",
       "  /* unfitted */\n",
       "  background-color: var(--sklearn-color-fitted-level-0);\n",
       "}\n",
       "\n",
       "#sk-container-id-1 input.sk-toggleable__control:checked~div.sk-toggleable__content {\n",
       "  /* Expand drop-down */\n",
       "  max-height: 200px;\n",
       "  max-width: 100%;\n",
       "  overflow: auto;\n",
       "}\n",
       "\n",
       "#sk-container-id-1 input.sk-toggleable__control:checked~label.sk-toggleable__label-arrow:before {\n",
       "  content: \"▾\";\n",
       "}\n",
       "\n",
       "/* Pipeline/ColumnTransformer-specific style */\n",
       "\n",
       "#sk-container-id-1 div.sk-label input.sk-toggleable__control:checked~label.sk-toggleable__label {\n",
       "  color: var(--sklearn-color-text);\n",
       "  background-color: var(--sklearn-color-unfitted-level-2);\n",
       "}\n",
       "\n",
       "#sk-container-id-1 div.sk-label.fitted input.sk-toggleable__control:checked~label.sk-toggleable__label {\n",
       "  background-color: var(--sklearn-color-fitted-level-2);\n",
       "}\n",
       "\n",
       "/* Estimator-specific style */\n",
       "\n",
       "/* Colorize estimator box */\n",
       "#sk-container-id-1 div.sk-estimator input.sk-toggleable__control:checked~label.sk-toggleable__label {\n",
       "  /* unfitted */\n",
       "  background-color: var(--sklearn-color-unfitted-level-2);\n",
       "}\n",
       "\n",
       "#sk-container-id-1 div.sk-estimator.fitted input.sk-toggleable__control:checked~label.sk-toggleable__label {\n",
       "  /* fitted */\n",
       "  background-color: var(--sklearn-color-fitted-level-2);\n",
       "}\n",
       "\n",
       "#sk-container-id-1 div.sk-label label.sk-toggleable__label,\n",
       "#sk-container-id-1 div.sk-label label {\n",
       "  /* The background is the default theme color */\n",
       "  color: var(--sklearn-color-text-on-default-background);\n",
       "}\n",
       "\n",
       "/* On hover, darken the color of the background */\n",
       "#sk-container-id-1 div.sk-label:hover label.sk-toggleable__label {\n",
       "  color: var(--sklearn-color-text);\n",
       "  background-color: var(--sklearn-color-unfitted-level-2);\n",
       "}\n",
       "\n",
       "/* Label box, darken color on hover, fitted */\n",
       "#sk-container-id-1 div.sk-label.fitted:hover label.sk-toggleable__label.fitted {\n",
       "  color: var(--sklearn-color-text);\n",
       "  background-color: var(--sklearn-color-fitted-level-2);\n",
       "}\n",
       "\n",
       "/* Estimator label */\n",
       "\n",
       "#sk-container-id-1 div.sk-label label {\n",
       "  font-family: monospace;\n",
       "  font-weight: bold;\n",
       "  display: inline-block;\n",
       "  line-height: 1.2em;\n",
       "}\n",
       "\n",
       "#sk-container-id-1 div.sk-label-container {\n",
       "  text-align: center;\n",
       "}\n",
       "\n",
       "/* Estimator-specific */\n",
       "#sk-container-id-1 div.sk-estimator {\n",
       "  font-family: monospace;\n",
       "  border: 1px dotted var(--sklearn-color-border-box);\n",
       "  border-radius: 0.25em;\n",
       "  box-sizing: border-box;\n",
       "  margin-bottom: 0.5em;\n",
       "  /* unfitted */\n",
       "  background-color: var(--sklearn-color-unfitted-level-0);\n",
       "}\n",
       "\n",
       "#sk-container-id-1 div.sk-estimator.fitted {\n",
       "  /* fitted */\n",
       "  background-color: var(--sklearn-color-fitted-level-0);\n",
       "}\n",
       "\n",
       "/* on hover */\n",
       "#sk-container-id-1 div.sk-estimator:hover {\n",
       "  /* unfitted */\n",
       "  background-color: var(--sklearn-color-unfitted-level-2);\n",
       "}\n",
       "\n",
       "#sk-container-id-1 div.sk-estimator.fitted:hover {\n",
       "  /* fitted */\n",
       "  background-color: var(--sklearn-color-fitted-level-2);\n",
       "}\n",
       "\n",
       "/* Specification for estimator info (e.g. \"i\" and \"?\") */\n",
       "\n",
       "/* Common style for \"i\" and \"?\" */\n",
       "\n",
       ".sk-estimator-doc-link,\n",
       "a:link.sk-estimator-doc-link,\n",
       "a:visited.sk-estimator-doc-link {\n",
       "  float: right;\n",
       "  font-size: smaller;\n",
       "  line-height: 1em;\n",
       "  font-family: monospace;\n",
       "  background-color: var(--sklearn-color-background);\n",
       "  border-radius: 1em;\n",
       "  height: 1em;\n",
       "  width: 1em;\n",
       "  text-decoration: none !important;\n",
       "  margin-left: 1ex;\n",
       "  /* unfitted */\n",
       "  border: var(--sklearn-color-unfitted-level-1) 1pt solid;\n",
       "  color: var(--sklearn-color-unfitted-level-1);\n",
       "}\n",
       "\n",
       ".sk-estimator-doc-link.fitted,\n",
       "a:link.sk-estimator-doc-link.fitted,\n",
       "a:visited.sk-estimator-doc-link.fitted {\n",
       "  /* fitted */\n",
       "  border: var(--sklearn-color-fitted-level-1) 1pt solid;\n",
       "  color: var(--sklearn-color-fitted-level-1);\n",
       "}\n",
       "\n",
       "/* On hover */\n",
       "div.sk-estimator:hover .sk-estimator-doc-link:hover,\n",
       ".sk-estimator-doc-link:hover,\n",
       "div.sk-label-container:hover .sk-estimator-doc-link:hover,\n",
       ".sk-estimator-doc-link:hover {\n",
       "  /* unfitted */\n",
       "  background-color: var(--sklearn-color-unfitted-level-3);\n",
       "  color: var(--sklearn-color-background);\n",
       "  text-decoration: none;\n",
       "}\n",
       "\n",
       "div.sk-estimator.fitted:hover .sk-estimator-doc-link.fitted:hover,\n",
       ".sk-estimator-doc-link.fitted:hover,\n",
       "div.sk-label-container:hover .sk-estimator-doc-link.fitted:hover,\n",
       ".sk-estimator-doc-link.fitted:hover {\n",
       "  /* fitted */\n",
       "  background-color: var(--sklearn-color-fitted-level-3);\n",
       "  color: var(--sklearn-color-background);\n",
       "  text-decoration: none;\n",
       "}\n",
       "\n",
       "/* Span, style for the box shown on hovering the info icon */\n",
       ".sk-estimator-doc-link span {\n",
       "  display: none;\n",
       "  z-index: 9999;\n",
       "  position: relative;\n",
       "  font-weight: normal;\n",
       "  right: .2ex;\n",
       "  padding: .5ex;\n",
       "  margin: .5ex;\n",
       "  width: min-content;\n",
       "  min-width: 20ex;\n",
       "  max-width: 50ex;\n",
       "  color: var(--sklearn-color-text);\n",
       "  box-shadow: 2pt 2pt 4pt #999;\n",
       "  /* unfitted */\n",
       "  background: var(--sklearn-color-unfitted-level-0);\n",
       "  border: .5pt solid var(--sklearn-color-unfitted-level-3);\n",
       "}\n",
       "\n",
       ".sk-estimator-doc-link.fitted span {\n",
       "  /* fitted */\n",
       "  background: var(--sklearn-color-fitted-level-0);\n",
       "  border: var(--sklearn-color-fitted-level-3);\n",
       "}\n",
       "\n",
       ".sk-estimator-doc-link:hover span {\n",
       "  display: block;\n",
       "}\n",
       "\n",
       "/* \"?\"-specific style due to the `<a>` HTML tag */\n",
       "\n",
       "#sk-container-id-1 a.estimator_doc_link {\n",
       "  float: right;\n",
       "  font-size: 1rem;\n",
       "  line-height: 1em;\n",
       "  font-family: monospace;\n",
       "  background-color: var(--sklearn-color-background);\n",
       "  border-radius: 1rem;\n",
       "  height: 1rem;\n",
       "  width: 1rem;\n",
       "  text-decoration: none;\n",
       "  /* unfitted */\n",
       "  color: var(--sklearn-color-unfitted-level-1);\n",
       "  border: var(--sklearn-color-unfitted-level-1) 1pt solid;\n",
       "}\n",
       "\n",
       "#sk-container-id-1 a.estimator_doc_link.fitted {\n",
       "  /* fitted */\n",
       "  border: var(--sklearn-color-fitted-level-1) 1pt solid;\n",
       "  color: var(--sklearn-color-fitted-level-1);\n",
       "}\n",
       "\n",
       "/* On hover */\n",
       "#sk-container-id-1 a.estimator_doc_link:hover {\n",
       "  /* unfitted */\n",
       "  background-color: var(--sklearn-color-unfitted-level-3);\n",
       "  color: var(--sklearn-color-background);\n",
       "  text-decoration: none;\n",
       "}\n",
       "\n",
       "#sk-container-id-1 a.estimator_doc_link.fitted:hover {\n",
       "  /* fitted */\n",
       "  background-color: var(--sklearn-color-fitted-level-3);\n",
       "}\n",
       "</style><div id=\"sk-container-id-1\" class=\"sk-top-container\"><div class=\"sk-text-repr-fallback\"><pre>RandomForestClassifier(n_estimators=10, random_state=42)</pre><b>In a Jupyter environment, please rerun this cell to show the HTML representation or trust the notebook. <br />On GitHub, the HTML representation is unable to render, please try loading this page with nbviewer.org.</b></div><div class=\"sk-container\" hidden><div class=\"sk-item\"><div class=\"sk-estimator fitted sk-toggleable\"><input class=\"sk-toggleable__control sk-hidden--visually\" id=\"sk-estimator-id-1\" type=\"checkbox\" checked><label for=\"sk-estimator-id-1\" class=\"sk-toggleable__label fitted sk-toggleable__label-arrow fitted\">&nbsp;&nbsp;RandomForestClassifier<a class=\"sk-estimator-doc-link fitted\" rel=\"noreferrer\" target=\"_blank\" href=\"https://scikit-learn.org/1.4/modules/generated/sklearn.ensemble.RandomForestClassifier.html\">?<span>Documentation for RandomForestClassifier</span></a><span class=\"sk-estimator-doc-link fitted\">i<span>Fitted</span></span></label><div class=\"sk-toggleable__content fitted\"><pre>RandomForestClassifier(n_estimators=10, random_state=42)</pre></div> </div></div></div></div>"
      ],
      "text/plain": [
       "RandomForestClassifier(n_estimators=10, random_state=42)"
      ]
     },
     "execution_count": 29,
     "metadata": {},
     "output_type": "execute_result"
    }
   ],
   "source": [
    "random_forest.fit(X_train_rf, y_train_rf)"
   ]
  },
  {
   "cell_type": "markdown",
   "id": "b7b50953-9b6e-44d4-bc9a-431020e106bc",
   "metadata": {},
   "source": [
    "### Obtenemos el cálculo de las predicciones en Train y Test"
   ]
  },
  {
   "cell_type": "code",
   "execution_count": 30,
   "id": "e0e6b3e9-c71b-4f3d-9d57-878e0f738775",
   "metadata": {},
   "outputs": [],
   "source": [
    "y_train_pred_rf = random_forest.predict(X_train_rf)\n",
    "y_test_pred_rf = random_forest.predict(X_test_rf)"
   ]
  },
  {
   "cell_type": "markdown",
   "id": "387ee353-7283-4405-8e13-2b9df2eef131",
   "metadata": {},
   "source": [
    "<a id=\"evaluacion4\">\n",
    "<h3 style=\"text-align: center; background: #16633b; color: white; padding: 15px 0; margin: 0\"> \n",
    "    Evaluación del algoritmo\n",
    "</h3>"
   ]
  },
  {
   "cell_type": "markdown",
   "id": "43fea5ee-5073-4aef-b341-cc6fcb56334c",
   "metadata": {},
   "source": [
    "### Importamos la librería de accuracy_score y realizamos el cálculo de las métricas"
   ]
  },
  {
   "cell_type": "code",
   "execution_count": 31,
   "id": "ad3676b9-8a3b-4f0a-b70f-9e6613454b22",
   "metadata": {},
   "outputs": [
    {
     "name": "stdout",
     "output_type": "stream",
     "text": [
      "El accuracy en train es: 99.08%\n",
      "El accuracy en test es: 80.85%\n"
     ]
    }
   ],
   "source": [
    "from sklearn.metrics import accuracy_score\n",
    "\n",
    "# Cálculo de accuracy en Train\n",
    "train_accuracy_rf = accuracy_score(y_train_rf, y_train_pred_rf)\n",
    "\n",
    "# Cálculo de accuracy en Test\n",
    "test_accuracy_rf = accuracy_score(y_test_rf, y_test_pred_rf)\n",
    "\n",
    "print(f'El accuracy en train es: {train_accuracy_rf*100:0.2f}%')\n",
    "print(f'El accuracy en test es: {test_accuracy_rf*100:0.2f}%')"
   ]
  },
  {
   "cell_type": "markdown",
   "id": "551471eb-0221-48f4-a58b-9be518320102",
   "metadata": {},
   "source": [
    "### Verificamos el feature importances y lo colocamos en un DataFrame"
   ]
  },
  {
   "cell_type": "code",
   "execution_count": 32,
   "id": "5db8238e-3f23-4303-90fc-e26c1193adcb",
   "metadata": {},
   "outputs": [
    {
     "data": {
      "text/html": [
       "<div>\n",
       "<style scoped>\n",
       "    .dataframe tbody tr th:only-of-type {\n",
       "        vertical-align: middle;\n",
       "    }\n",
       "\n",
       "    .dataframe tbody tr th {\n",
       "        vertical-align: top;\n",
       "    }\n",
       "\n",
       "    .dataframe thead th {\n",
       "        text-align: right;\n",
       "    }\n",
       "</style>\n",
       "<table border=\"1\" class=\"dataframe\">\n",
       "  <thead>\n",
       "    <tr style=\"text-align: right;\">\n",
       "      <th></th>\n",
       "      <th>feature</th>\n",
       "      <th>importance</th>\n",
       "    </tr>\n",
       "  </thead>\n",
       "  <tbody>\n",
       "    <tr>\n",
       "      <th>4</th>\n",
       "      <td>Height</td>\n",
       "      <td>0.371990</td>\n",
       "    </tr>\n",
       "    <tr>\n",
       "      <th>5</th>\n",
       "      <td>Width</td>\n",
       "      <td>0.180475</td>\n",
       "    </tr>\n",
       "    <tr>\n",
       "      <th>0</th>\n",
       "      <td>Weight</td>\n",
       "      <td>0.148091</td>\n",
       "    </tr>\n",
       "    <tr>\n",
       "      <th>3</th>\n",
       "      <td>Length3</td>\n",
       "      <td>0.117550</td>\n",
       "    </tr>\n",
       "    <tr>\n",
       "      <th>2</th>\n",
       "      <td>Length2</td>\n",
       "      <td>0.105054</td>\n",
       "    </tr>\n",
       "    <tr>\n",
       "      <th>1</th>\n",
       "      <td>Length1</td>\n",
       "      <td>0.076839</td>\n",
       "    </tr>\n",
       "  </tbody>\n",
       "</table>\n",
       "</div>"
      ],
      "text/plain": [
       "   feature  importance\n",
       "4   Height    0.371990\n",
       "5    Width    0.180475\n",
       "0   Weight    0.148091\n",
       "3  Length3    0.117550\n",
       "2  Length2    0.105054\n",
       "1  Length1    0.076839"
      ]
     },
     "execution_count": 32,
     "metadata": {},
     "output_type": "execute_result"
    }
   ],
   "source": [
    "feature_importances_df = pd.DataFrame(\n",
    "    {'feature': list(X_rf.columns), 'importance': random_forest.feature_importances_}\n",
    ").sort_values('importance', ascending=False)\n",
    "\n",
    "# Mostramos\n",
    "feature_importances_df"
   ]
  },
  {
   "cell_type": "markdown",
   "id": "c62e1e22-f6c4-4e6a-a744-9a327851191c",
   "metadata": {},
   "source": [
    "### Graficando el feature importances con ayuda de Seaborn y Matplotlib"
   ]
  },
  {
   "cell_type": "code",
   "execution_count": 33,
   "id": "96cef10e-47d7-4d96-bbd9-62df5f2f7c90",
   "metadata": {},
   "outputs": [
    {
     "data": {
      "image/png": "[encoded data removed]",
      "text/plain": [
       "<Figure size 640x480 with 1 Axes>"
      ]
     },
     "metadata": {},
     "output_type": "display_data"
    }
   ],
   "source": [
    "sns.barplot(x=feature_importances_df.feature, y=feature_importances_df.importance, hue=feature_importances_df.feature, palette='BrBG')\n",
    "plt.xlabel('Features')\n",
    "plt.ylabel('Feature Importance Score')\n",
    "plt.title('Visualizando la importancia de cada Feature')\n",
    "plt.show()"
   ]
  },
  {
   "cell_type": "markdown",
   "id": "381e064c-f684-4e2c-9bed-2410400e4f24",
   "metadata": {},
   "source": [
    "### Importamos la librería de confusion_matrix y creamos la Matriz de confusión"
   ]
  },
  {
   "cell_type": "code",
   "execution_count": 34,
   "id": "79a8e48e-f463-4039-a4cf-b0d21cf7fd27",
   "metadata": {},
   "outputs": [
    {
     "data": {
      "image/png": "[encoded data removed]",
      "text/plain": [
       "<Figure size 640x480 with 2 Axes>"
      ]
     },
     "metadata": {},
     "output_type": "display_data"
    }
   ],
   "source": [
    "from sklearn.metrics import confusion_matrix\n",
    "\n",
    "cm = confusion_matrix(y_test_rf, y_test_pred_rf)\n",
    "\n",
    "# Graficamos la matriz de confusión\n",
    "ax = sns.heatmap(cm, annot=True, cbar=True)\n",
    "ax.set_title('Matriz de Confusión')\n",
    "plt.show()"
   ]
  },
  {
   "cell_type": "markdown",
   "id": "f715b53b-1de7-4b90-839b-6a5377faaede",
   "metadata": {},
   "source": [
    "### Importamos la librería de classification_report e imprimimos un reporte más detallado de nuestro algoritmo"
   ]
  },
  {
   "cell_type": "code",
   "execution_count": 35,
   "id": "e0c0089b-8df6-423e-83df-395381ac6002",
   "metadata": {},
   "outputs": [
    {
     "name": "stdout",
     "output_type": "stream",
     "text": [
      "              precision    recall  f1-score   support\n",
      "\n",
      "           0       0.92      1.00      0.96        11\n",
      "           1       0.75      1.00      0.86         3\n",
      "           2       0.87      0.72      0.79        18\n",
      "           3       1.00      1.00      1.00         7\n",
      "           4       0.29      0.50      0.36         4\n",
      "           5       1.00      1.00      1.00         2\n",
      "           6       0.00      0.00      0.00         2\n",
      "\n",
      "    accuracy                           0.81        47\n",
      "   macro avg       0.69      0.75      0.71        47\n",
      "weighted avg       0.81      0.81      0.80        47\n",
      "\n"
     ]
    }
   ],
   "source": [
    "from sklearn.metrics import classification_report\n",
    "\n",
    "print(classification_report(y_test_rf, y_test_pred_rf, zero_division=0))"
   ]
  },
  {
   "cell_type": "code",
   "execution_count": 36,
   "id": "cb76b710-3bef-4e7f-a4eb-41ca0052c7a1",
   "metadata": {},
   "outputs": [
    {
     "name": "stdout",
     "output_type": "stream",
     "text": [
      "              precision    recall  f1-score   support\n",
      "\n",
      "       Bream       0.92      1.00      0.96        11\n",
      "      Parkki       0.75      1.00      0.86         3\n",
      "       Perch       0.87      0.72      0.79        18\n",
      "        Pike       1.00      1.00      1.00         7\n",
      "       Roach       0.29      0.50      0.36         4\n",
      "       Smelt       1.00      1.00      1.00         2\n",
      "   Whitefish       0.00      0.00      0.00         2\n",
      "\n",
      "    accuracy                           0.81        47\n",
      "   macro avg       0.69      0.75      0.71        47\n",
      "weighted avg       0.81      0.81      0.80        47\n",
      "\n"
     ]
    }
   ],
   "source": [
    "# Con Label encoder\n",
    "print(classification_report(label_encoder.inverse_transform(y_test_rf), label_encoder.inverse_transform(y_test_pred_rf), zero_division=0))"
   ]
  },
  {
   "cell_type": "markdown",
   "id": "f6355802-f927-42e6-b8d3-b566c4ddb366",
   "metadata": {},
   "source": [
    "<a id=\"validacion4\">\n",
    "<h3 style=\"text-align: center; background: #16633b; color: white; padding: 15px 0; margin: 0\"> \n",
    "    Validación cruzada\n",
    "</h3>"
   ]
  },
  {
   "cell_type": "code",
   "execution_count": 135,
   "id": "f0423fec-ee7d-42e0-89cc-c84d6db2bcf9",
   "metadata": {},
   "outputs": [
    {
     "name": "stdout",
     "output_type": "stream",
     "text": [
      "Puntajes por Fold: 0.28, 0.61, 0.52, 0.65, 0.39,\n",
      "Bosques aleatorios - Precisión media: 48.85% (± 13.71)\n"
     ]
    }
   ],
   "source": [
    "from sklearn.model_selection import cross_val_score\n",
    "\n",
    "scores = cross_val_score(random_forest, X_rf, y_rf, cv=5)  # 5-fold cross-validation\n",
    "scores_red = [f'{round(score, 2)},' for score in scores]\n",
    "print(\"Puntajes por Fold:\", *scores_red)\n",
    "print(f\"Bosques aleatorios - Precisión media: {scores.mean()*100:.2f}% (± {scores.std()*100:.2f})\")"
   ]
  },
  {
   "cell_type": "markdown",
   "id": "dbcedee1-c32b-4e88-a41c-a2aa0f06996d",
   "metadata": {},
   "source": [
    "### Conclusión\n",
    "<p style='text-align:justify'>\n",
    "El modelo de <b>bosques aleatorios</b> muestra un rendimiento deficiente, con una precisión promedio de 48.85%, que es ligeramente inferior a la de lanzar una moneda al aire. La alta variabilidad en los resultados (desviación estándar de 13.71) sugiere que el modelo es sensible a los datos de entrenamiento y podría no estar generalizando bien. Las precisiones varían entre 28% y 65% en los diferentes folds, lo que indica un rendimiento inconsistente. Esto sugiere que, a pesar de haber obtenido una buena precisión en el modelo de entrenamiento y validación, no significa que los datos se estén analizando correctamente, ya que la validación cruzada muestra una precisión mucho menor que la obtenida.\n",
    "</p>"
   ]
  }
 ],
 "metadata": {
  "kernelspec": {
   "display_name": "nosql",
   "language": "python",
   "name": "nosql"
  },
  "language_info": {
   "codemirror_mode": {
    "name": "ipython",
    "version": 3
   },
   "file_extension": ".py",
   "mimetype": "text/x-python",
   "name": "python",
   "nbconvert_exporter": "python",
   "pygments_lexer": "ipython3",
   "version": "3.11.7"
  }
 },
 "nbformat": 4,
 "nbformat_minor": 5
}
